{
 "cells": [
  {
   "cell_type": "code",
   "execution_count": 1,
   "metadata": {},
   "outputs": [],
   "source": [
    "import tensorflow as tf\n",
    "import matplotlib.pyplot as plt\n",
    "import matplotlib.image as mpimg\n",
    "import tensorflow.keras as keras\n",
    "import numpy as np"
   ]
  },
  {
   "cell_type": "markdown",
   "metadata": {},
   "source": [
    "### 1. Read in MNIST data"
   ]
  },
  {
   "cell_type": "code",
   "execution_count": 2,
   "metadata": {},
   "outputs": [
    {
     "name": "stdout",
     "output_type": "stream",
     "text": [
      "(60000, 28, 28)\n",
      "(60000,)\n",
      "(10000, 28, 28)\n",
      "(10000,)\n"
     ]
    },
    {
     "data": {
      "image/png": "[encoded data removed]",
      "text/plain": [
       "<Figure size 432x288 with 4 Axes>"
      ]
     },
     "metadata": {
      "needs_background": "light"
     },
     "output_type": "display_data"
    }
   ],
   "source": [
    "path = 'C:/Users/29578/Downloads/penn state/2020 Spring/PHS 597 Deep Learning/data/mnist.npz'\n",
    "(train_images, train_labels), (test_images, test_labels) = tf.keras.datasets.mnist.load_data(path)\n",
    "print(train_images.shape)\n",
    "print(train_labels.shape)\n",
    "print(test_images.shape)\n",
    "print(test_labels.shape)\n",
    "fig, axs = plt.subplots(2,2)\n",
    "for ii in np.arange(0,2):\n",
    "    for jj in np.arange(0,2):\n",
    "        axs[ii,jj].imshow(train_images[ii*2+jj,:,:])\n",
    "        axs[ii,jj].title.set_text(train_labels[ii*2+jj]) #show title: the label\n",
    "##print(range(0,2))\n",
    "##plt.show()"
   ]
  },
  {
   "cell_type": "code",
   "execution_count": 3,
   "metadata": {},
   "outputs": [],
   "source": [
    "from tensorflow.keras import models\n",
    "from tensorflow.keras import layers\n",
    "#from tensorflow.keras import backend"
   ]
  },
  {
   "cell_type": "code",
   "execution_count": 22,
   "metadata": {},
   "outputs": [],
   "source": [
    "?models.Sequential\n",
    "?layers.Dense"
   ]
  },
  {
   "cell_type": "code",
   "execution_count": 4,
   "metadata": {},
   "outputs": [
    {
     "name": "stdout",
     "output_type": "stream",
     "text": [
      "WARNING:tensorflow:From C:\\Users\\29578\\Anaconda3\\lib\\site-packages\\tensorflow_core\\python\\ops\\resource_variable_ops.py:1630: calling BaseResourceVariable.__init__ (from tensorflow.python.ops.resource_variable_ops) with constraint is deprecated and will be removed in a future version.\n",
      "Instructions for updating:\n",
      "If using Keras pass *_constraint arguments to layers.\n"
     ]
    }
   ],
   "source": [
    "network = models.Sequential()\n",
    "network.add(layers.Dense(512, activation='relu', input_shape=(28 * 28,)))\n",
    "#512: self-determined as dimension of output vector. 28*28 pixels. \n",
    "network.add(layers.Dense(10, activation='softmax'))\n",
    "#10: self-determined dimension of output.10 categories of labels: 0,1,...9"
   ]
  },
  {
   "cell_type": "code",
   "execution_count": 5,
   "metadata": {},
   "outputs": [
    {
     "data": {
      "text/plain": [
       "[<tf.Variable 'dense/kernel:0' shape=(784, 512) dtype=float32>,\n",
       " <tf.Variable 'dense/bias:0' shape=(512,) dtype=float32>,\n",
       " <tf.Variable 'dense_1/kernel:0' shape=(512, 10) dtype=float32>,\n",
       " <tf.Variable 'dense_1/bias:0' shape=(10,) dtype=float32>]"
      ]
     },
     "execution_count": 5,
     "metadata": {},
     "output_type": "execute_result"
    }
   ],
   "source": [
    "network.weights"
   ]
  },
  {
   "cell_type": "code",
   "execution_count": 6,
   "metadata": {},
   "outputs": [],
   "source": [
    "network.compile(optimizer='rmsprop',\n",
    "loss='categorical_crossentropy',\n",
    "metrics=['accuracy'])"
   ]
  },
  {
   "cell_type": "markdown",
   "metadata": {},
   "source": [
    "### 2. Reshape and Normalization"
   ]
  },
  {
   "cell_type": "code",
   "execution_count": 4,
   "metadata": {},
   "outputs": [],
   "source": [
    "train_images = train_images.reshape((60000, 28 * 28))\n",
    "train_images = train_images.astype('float32') / 255\n",
    "test_images = test_images.reshape((10000, 28 * 28))\n",
    "test_images = test_images.astype('float32') / 255"
   ]
  },
  {
   "cell_type": "code",
   "execution_count": 8,
   "metadata": {},
   "outputs": [
    {
     "data": {
      "text/plain": [
       "array([0, 1, 2, 3, 4, 5, 6, 7, 8, 9], dtype=uint8)"
      ]
     },
     "execution_count": 8,
     "metadata": {},
     "output_type": "execute_result"
    }
   ],
   "source": [
    "np.unique(train_labels)"
   ]
  },
  {
   "cell_type": "code",
   "execution_count": 9,
   "metadata": {},
   "outputs": [],
   "source": [
    "from tensorflow.keras.utils import to_categorical\n",
    "train_labels_cat = to_categorical(train_labels)\n",
    "test_labels_cat = to_categorical(test_labels)\n",
    "#?to_categorical:convert a class vector to binary class matrix\n",
    "#test agreement of train and test: 10 rows of categories, 2 columns for train and test"
   ]
  },
  {
   "cell_type": "markdown",
   "metadata": {},
   "source": [
    "### 3. Run NN model"
   ]
  },
  {
   "cell_type": "code",
   "execution_count": 10,
   "metadata": {},
   "outputs": [
    {
     "name": "stdout",
     "output_type": "stream",
     "text": [
      "Train on 60000 samples\n",
      "Epoch 1/5\n",
      "60000/60000 [==============================] - 58s 958us/sample - loss: 0.2547 - acc: 0.9266\n",
      "Epoch 2/5\n",
      "60000/60000 [==============================] - 25s 413us/sample - loss: 0.1038 - acc: 0.9689 - loss: 0.1046 \n",
      "Epoch 3/5\n",
      "60000/60000 [==============================] - 11s 176us/sample - loss: 0.0685 - acc: 0.9802\n",
      "Epoch 4/5\n",
      "60000/60000 [==============================] - 15s 242us/sample - loss: 0.0504 - acc: 0.9847 - loss: - ETA: 5s -  - ETA: 1\n",
      "Epoch 5/5\n",
      "60000/60000 [==============================] - 16s 260us/sample - loss: 0.0377 - acc: 0.9891\n"
     ]
    },
    {
     "data": {
      "text/plain": [
       "<tensorflow.python.keras.callbacks.History at 0x1e880283948>"
      ]
     },
     "execution_count": 10,
     "metadata": {},
     "output_type": "execute_result"
    }
   ],
   "source": [
    "network.fit(train_images, train_labels_cat, epochs=5, batch_size=128)\n",
    "#x:input data. y: target data\n",
    "#batch size: self-determined. # of smples per gradient update. # of figures used to train NN\n",
    "#epoch: integer. # of epoches to train the model. an epoch is an iteration over the entire data."
   ]
  },
  {
   "cell_type": "markdown",
   "metadata": {},
   "source": [
    "### 4. Test model (accuracy)"
   ]
  },
  {
   "cell_type": "code",
   "execution_count": 11,
   "metadata": {},
   "outputs": [
    {
     "name": "stdout",
     "output_type": "stream",
     "text": [
      "10000/10000 [==============================] - 7s 719us/sample - loss: 0.0682 - acc: 0.98050s - loss: 0.0928 - - E\n",
      "0.9805\n"
     ]
    }
   ],
   "source": [
    "test_loss, test_acc = network.evaluate(test_images, test_labels_cat)\n",
    "print(test_acc)\n",
    "#test_acc: accuracy of prediction compared with the truth"
   ]
  },
  {
   "cell_type": "markdown",
   "metadata": {},
   "source": [
    "### Five Machine Learning Models were implemented to MNIST dataset. The accuracy of prediction for the five models was compared with NN example (accuracy=0.9805).\n",
    "    Model 1: Support Vector Machine (SVM). Accuracy=0.9786\n",
    "    Model 2: Random Forest. Accuracy=0.9715\n",
    "    Model 3: K-Nearest Neighbors. Accuracy=0.9688\n",
    "    Model 4: multinomial logistic with L2 penalty. Accuracy=0.8978 \n",
    "    Model 5: Neural Network. (This multi-layer Perceptron classifier optimizes the log-loss function using LBFGS). Accuracy=0.981\n",
    "   \n",
    "An example of cross-validation and grid search was offered at the end to train hyperparameters in the models."
   ]
  },
  {
   "cell_type": "markdown",
   "metadata": {},
   "source": [
    "### Method 1: Support Vector Machine (SVM)"
   ]
  },
  {
   "cell_type": "code",
   "execution_count": 6,
   "metadata": {},
   "outputs": [],
   "source": [
    "from sklearn.svm import SVC\n",
    "from sklearn import metrics\n",
    "from sklearn.metrics import confusion_matrix\n",
    "from sklearn.preprocessing import scale\n",
    "import pandas as pd\n",
    "import random"
   ]
  },
  {
   "cell_type": "code",
   "execution_count": 7,
   "metadata": {},
   "outputs": [
    {
     "name": "stdout",
     "output_type": "stream",
     "text": [
      "(5000, 784)\n",
      "(5000,)\n"
     ]
    }
   ],
   "source": [
    "train_images1 = train_images[1:5001,]\n",
    "train_labels1 = train_labels[1:5001,]\n",
    "test_images1 = test_images[1:1001,]\n",
    "test_labels1 = test_labels[1:1001,]\n",
    "print(train_images1.shape)\n",
    "print(train_labels1.shape)"
   ]
  },
  {
   "cell_type": "code",
   "execution_count": 114,
   "metadata": {},
   "outputs": [
    {
     "name": "stdout",
     "output_type": "stream",
     "text": [
      "accuracy: 0.925 \n",
      "\n"
     ]
    }
   ],
   "source": [
    "# Kernel Function Selection. use 5000 images for training and 100 for testing\n",
    "# 1. linear model. SVC(kernel='linear') accuracy: 0.889 \n",
    "# 2. nonlinear model. SVC(kernel='poly',gamma=\"scale\") accuracy: 0.92\n",
    "# 2.1 nonlinear model. SVC(kernel='poly',gamma=\"scale\",C=10) accuracy: 0.925\n",
    "# 3. nonlinear model. SVC(C=15, gamma=0.001, kernel=\"rbf\") accuracy: 0.917\n",
    "random.seed(1)\n",
    "np.random.seed(1)\n",
    "model_linear = SVC(kernel='poly',gamma=\"scale\",C=10)\n",
    "model_linear.fit(train_images1, train_labels1)\n",
    "test_pred = model_linear.predict(test_images1)\n",
    "print(\"accuracy:\", metrics.accuracy_score(y_true=test_labels1, y_pred=test_pred), \"\\n\")"
   ]
  },
  {
   "cell_type": "code",
   "execution_count": 62,
   "metadata": {},
   "outputs": [
    {
     "name": "stdout",
     "output_type": "stream",
     "text": [
      "accuracy: 0.9786 \n",
      "\n"
     ]
    }
   ],
   "source": [
    "model_linear = SVC(kernel='poly',gamma=\"scale\",C=10)\n",
    "model_linear.fit(train_images, train_labels)\n",
    "# accuracy\n",
    "test_pred = model_linear.predict(test_images)\n",
    "print(\"accuracy:\", metrics.accuracy_score(y_true=test_labels, y_pred=test_pred), \"\\n\")"
   ]
  },
  {
   "cell_type": "markdown",
   "metadata": {},
   "source": [
    "### Method 2: Random Forest"
   ]
  },
  {
   "cell_type": "code",
   "execution_count": 5,
   "metadata": {},
   "outputs": [],
   "source": [
    "from sklearn.ensemble import RandomForestClassifier"
   ]
  },
  {
   "cell_type": "code",
   "execution_count": 99,
   "metadata": {},
   "outputs": [],
   "source": [
    "?RandomForestClassifier"
   ]
  },
  {
   "cell_type": "code",
   "execution_count": 116,
   "metadata": {},
   "outputs": [
    {
     "name": "stdout",
     "output_type": "stream",
     "text": [
      "Train model\n",
      "Compute predictions\n",
      "Accuracy:  0.921\n"
     ]
    }
   ],
   "source": [
    "random.seed(1)\n",
    "np.random.seed(1)\n",
    "rf = RandomForestClassifier(n_estimators=150,max_depth=10) \n",
    "#n_estimators and max_depth controlled by cross-validation\n",
    "#n_estimators: number of trees. \n",
    "#max_depth : The maximum depth of the tree. log_2(28*28)=9.6\n",
    "print(\"Train model\")\n",
    "rf.fit(train_images1, train_labels1)\n",
    "print(\"Compute predictions\")\n",
    "test_pred_rf = rf.predict(test_images1)\n",
    "print(\"Accuracy: \", metrics.accuracy_score(test_labels1, test_pred_rf))"
   ]
  },
  {
   "cell_type": "code",
   "execution_count": null,
   "metadata": {},
   "outputs": [],
   "source": [
    "#Tuning hyperparameters\n",
    "#model 1. rf = RandomForestClassifier(n_estimators=150,max_depth=10). Accuracy=0.948\n",
    "#model 2. rf = RandomForestClassifier(n_estimators=100). Accuracy=0.9699\n",
    "#model 3. rf = RandomForestClassifier(n_estimators=150). Accuracy=0.9708"
   ]
  },
  {
   "cell_type": "code",
   "execution_count": 8,
   "metadata": {},
   "outputs": [
    {
     "name": "stdout",
     "output_type": "stream",
     "text": [
      "Train model\n",
      "Compute predictions\n",
      "Accuracy:  0.9715\n"
     ]
    }
   ],
   "source": [
    "random.seed(1)\n",
    "np.random.seed(1)\n",
    "rf = RandomForestClassifier(n_estimators=250)\n",
    "print(\"Train model\")\n",
    "rf.fit(train_images, train_labels)\n",
    "print(\"Compute predictions\")\n",
    "test_pred_rf = rf.predict(test_images)\n",
    "print(\"Accuracy: \", metrics.accuracy_score(test_labels, test_pred_rf))"
   ]
  },
  {
   "cell_type": "markdown",
   "metadata": {},
   "source": [
    "### Model 3: K-Nearest Neighbors"
   ]
  },
  {
   "cell_type": "code",
   "execution_count": 71,
   "metadata": {},
   "outputs": [],
   "source": [
    "from sklearn.neighbors import KNeighborsClassifier"
   ]
  },
  {
   "cell_type": "code",
   "execution_count": 73,
   "metadata": {},
   "outputs": [
    {
     "name": "stdout",
     "output_type": "stream",
     "text": [
      "Train model\n",
      "Compute predictions\n",
      "Accuracy:  0.91\n"
     ]
    }
   ],
   "source": [
    "knn = KNeighborsClassifier()\n",
    "print(\"Train model\")\n",
    "knn.fit(train_images1, train_labels1)\n",
    "print(\"Compute predictions\")\n",
    "test_pred_knn = knn.predict(test_images1)\n",
    "print(\"Accuracy: \", metrics.accuracy_score(test_labels1, test_pred_knn))"
   ]
  },
  {
   "cell_type": "code",
   "execution_count": 74,
   "metadata": {},
   "outputs": [
    {
     "name": "stdout",
     "output_type": "stream",
     "text": [
      "Train model\n",
      "Compute predictions\n",
      "Accuracy:  0.9688\n"
     ]
    }
   ],
   "source": [
    "print(\"Train model\")\n",
    "knn.fit(train_images, train_labels)\n",
    "print(\"Compute predictions\")\n",
    "test_pred_knn = knn.predict(test_images)\n",
    "print(\"Accuracy: \", metrics.accuracy_score(test_labels, test_pred_knn))"
   ]
  },
  {
   "cell_type": "markdown",
   "metadata": {},
   "source": [
    "### Method 4: multinomial logistic with L2 penalty"
   ]
  },
  {
   "cell_type": "code",
   "execution_count": 75,
   "metadata": {},
   "outputs": [],
   "source": [
    "from sklearn.linear_model import LogisticRegression"
   ]
  },
  {
   "cell_type": "code",
   "execution_count": 107,
   "metadata": {},
   "outputs": [],
   "source": [
    "?LogisticRegression"
   ]
  },
  {
   "cell_type": "code",
   "execution_count": 82,
   "metadata": {},
   "outputs": [
    {
     "name": "stdout",
     "output_type": "stream",
     "text": [
      "Train model\n",
      "Compute predictions\n",
      "Accuracy:  0.875\n"
     ]
    }
   ],
   "source": [
    "train_samples1 = 5000\n",
    "clf = LogisticRegression(C=50. / train_samples1, penalty='l2', solver='saga', tol=0.1,multi_class=\"auto\")#multi_class=10\n",
    "print(\"Train model\")\n",
    "clf.fit(train_images1, train_labels1)\n",
    "print(\"Compute predictions\")\n",
    "test_pred_clf = clf.predict(test_images1)\n",
    "print(\"Accuracy: \", metrics.accuracy_score(test_labels1, test_pred_clf))"
   ]
  },
  {
   "cell_type": "code",
   "execution_count": 83,
   "metadata": {},
   "outputs": [
    {
     "name": "stdout",
     "output_type": "stream",
     "text": [
      "Train model\n",
      "Compute predictions\n",
      "Accuracy:  0.8978\n"
     ]
    }
   ],
   "source": [
    "train_samples = 60000\n",
    "clf = LogisticRegression(C=50. / train_samples, penalty='l2', solver='saga', tol=0.1,multi_class=\"auto\")\n",
    "print(\"Train model\")\n",
    "clf.fit(train_images, train_labels)\n",
    "print(\"Compute predictions\")\n",
    "test_pred_clf = clf.predict(test_images)\n",
    "print(\"Accuracy: \", metrics.accuracy_score(test_labels, test_pred_clf))"
   ]
  },
  {
   "cell_type": "markdown",
   "metadata": {},
   "source": [
    "### Method 5: Neural Network "
   ]
  },
  {
   "cell_type": "code",
   "execution_count": 84,
   "metadata": {},
   "outputs": [],
   "source": [
    "from sklearn.neural_network import MLPClassifier"
   ]
  },
  {
   "cell_type": "code",
   "execution_count": 105,
   "metadata": {},
   "outputs": [],
   "source": [
    "?MLPClassifier \n",
    "#Multi-layer Perceptron classifier.optimizes the log-loss function using LBFGS or stochastic gradient descent.\n",
    "#default activation function for hidden layer is Relu"
   ]
  },
  {
   "cell_type": "code",
   "execution_count": 85,
   "metadata": {},
   "outputs": [
    {
     "name": "stdout",
     "output_type": "stream",
     "text": [
      "Train model\n",
      "Compute predictions\n",
      "Accuracy:  0.924\n"
     ]
    }
   ],
   "source": [
    "clf = MLPClassifier(solver='lbfgs',hidden_layer_sizes=(1000,),  random_state=1 ) \n",
    "print(\"Train model\")\n",
    "clf.fit(train_images1, train_labels1)\n",
    "print(\"Compute predictions\")\n",
    "test_pred_clf = clf.predict(test_images1)\n",
    "print(\"Accuracy: \", metrics.accuracy_score(test_labels1, test_pred_clf))"
   ]
  },
  {
   "cell_type": "code",
   "execution_count": 90,
   "metadata": {},
   "outputs": [
    {
     "name": "stdout",
     "output_type": "stream",
     "text": [
      "Train model\n",
      "Compute predictions\n",
      "Accuracy:  0.981\n"
     ]
    }
   ],
   "source": [
    "clf = MLPClassifier(solver='lbfgs',hidden_layer_sizes=(1000,),  random_state=1 ) \n",
    "print(\"Train model\")\n",
    "clf.fit(train_images, train_labels)\n",
    "print(\"Compute predictions\")\n",
    "test_pred_clf = clf.predict(test_images)\n",
    "print(\"Accuracy: \", metrics.accuracy_score(test_labels, test_pred_clf))"
   ]
  },
  {
   "cell_type": "markdown",
   "metadata": {},
   "source": [
    "### Example: Training Hyperparameter by Cross-validation and Grid Search"
   ]
  },
  {
   "cell_type": "code",
   "execution_count": null,
   "metadata": {},
   "outputs": [
    {
     "name": "stdout",
     "output_type": "stream",
     "text": [
      "Fitting 20 folds for each of 9 candidates, totalling 180 fits\n"
     ]
    },
    {
     "name": "stderr",
     "output_type": "stream",
     "text": [
      "[Parallel(n_jobs=1)]: Using backend SequentialBackend with 1 concurrent workers.\n"
     ]
    }
   ],
   "source": [
    "#20-fold cross validation\n",
    "# creating a KFold object with 20 splits \n",
    "folds = KFold(n_splits = 20, shuffle = True, random_state = 10)\n",
    "\n",
    "# specify range of hyperparameters\n",
    "# Set the parameters by cross-validation\n",
    "hyper_params = [ {'n_estimators': [100, 150,250],\n",
    "                     'max_depth': [8,9,10]}]\n",
    "\n",
    "\n",
    "# specify model\n",
    "model = RandomForestClassifier() \n",
    "\n",
    "# set up GridSearchCV()\n",
    "model_cv = GridSearchCV(estimator = model, \n",
    "                        param_grid = hyper_params, \n",
    "                        scoring= 'accuracy', \n",
    "                        cv = folds, \n",
    "                        verbose = 1,\n",
    "                        return_train_score=True)      \n",
    "\n",
    "# fit the model\n",
    "model_cv.fit(train_images1, train_labels1)"
   ]
  },
  {
   "cell_type": "code",
   "execution_count": 108,
   "metadata": {},
   "outputs": [
    {
     "data": {
      "text/html": [
       "<div>\n",
       "<style scoped>\n",
       "    .dataframe tbody tr th:only-of-type {\n",
       "        vertical-align: middle;\n",
       "    }\n",
       "\n",
       "    .dataframe tbody tr th {\n",
       "        vertical-align: top;\n",
       "    }\n",
       "\n",
       "    .dataframe thead th {\n",
       "        text-align: right;\n",
       "    }\n",
       "</style>\n",
       "<table border=\"1\" class=\"dataframe\">\n",
       "  <thead>\n",
       "    <tr style=\"text-align: right;\">\n",
       "      <th></th>\n",
       "      <th>mean_fit_time</th>\n",
       "      <th>std_fit_time</th>\n",
       "      <th>mean_score_time</th>\n",
       "      <th>std_score_time</th>\n",
       "      <th>param_max_depth</th>\n",
       "      <th>param_n_estimators</th>\n",
       "      <th>params</th>\n",
       "      <th>split0_test_score</th>\n",
       "      <th>split1_test_score</th>\n",
       "      <th>split2_test_score</th>\n",
       "      <th>...</th>\n",
       "      <th>mean_test_score</th>\n",
       "      <th>std_test_score</th>\n",
       "      <th>rank_test_score</th>\n",
       "      <th>split0_train_score</th>\n",
       "      <th>split1_train_score</th>\n",
       "      <th>split2_train_score</th>\n",
       "      <th>split3_train_score</th>\n",
       "      <th>split4_train_score</th>\n",
       "      <th>mean_train_score</th>\n",
       "      <th>std_train_score</th>\n",
       "    </tr>\n",
       "  </thead>\n",
       "  <tbody>\n",
       "    <tr>\n",
       "      <td>0</td>\n",
       "      <td>1.551600</td>\n",
       "      <td>0.271128</td>\n",
       "      <td>0.045159</td>\n",
       "      <td>0.020912</td>\n",
       "      <td>8</td>\n",
       "      <td>70</td>\n",
       "      <td>{'max_depth': 8, 'n_estimators': 70}</td>\n",
       "      <td>0.924</td>\n",
       "      <td>0.932</td>\n",
       "      <td>0.903</td>\n",
       "      <td>...</td>\n",
       "      <td>0.9136</td>\n",
       "      <td>0.012142</td>\n",
       "      <td>12</td>\n",
       "      <td>0.97575</td>\n",
       "      <td>0.97800</td>\n",
       "      <td>0.97725</td>\n",
       "      <td>0.97925</td>\n",
       "      <td>0.97475</td>\n",
       "      <td>0.97700</td>\n",
       "      <td>0.001597</td>\n",
       "    </tr>\n",
       "    <tr>\n",
       "      <td>1</td>\n",
       "      <td>2.157482</td>\n",
       "      <td>0.138588</td>\n",
       "      <td>0.060863</td>\n",
       "      <td>0.019533</td>\n",
       "      <td>8</td>\n",
       "      <td>100</td>\n",
       "      <td>{'max_depth': 8, 'n_estimators': 100}</td>\n",
       "      <td>0.928</td>\n",
       "      <td>0.934</td>\n",
       "      <td>0.915</td>\n",
       "      <td>...</td>\n",
       "      <td>0.9198</td>\n",
       "      <td>0.009968</td>\n",
       "      <td>11</td>\n",
       "      <td>0.97850</td>\n",
       "      <td>0.97725</td>\n",
       "      <td>0.97925</td>\n",
       "      <td>0.97675</td>\n",
       "      <td>0.98050</td>\n",
       "      <td>0.97845</td>\n",
       "      <td>0.001355</td>\n",
       "    </tr>\n",
       "    <tr>\n",
       "      <td>2</td>\n",
       "      <td>3.695446</td>\n",
       "      <td>0.183625</td>\n",
       "      <td>0.064410</td>\n",
       "      <td>0.017864</td>\n",
       "      <td>8</td>\n",
       "      <td>150</td>\n",
       "      <td>{'max_depth': 8, 'n_estimators': 150}</td>\n",
       "      <td>0.926</td>\n",
       "      <td>0.934</td>\n",
       "      <td>0.914</td>\n",
       "      <td>...</td>\n",
       "      <td>0.9218</td>\n",
       "      <td>0.007808</td>\n",
       "      <td>10</td>\n",
       "      <td>0.97900</td>\n",
       "      <td>0.97750</td>\n",
       "      <td>0.98050</td>\n",
       "      <td>0.97975</td>\n",
       "      <td>0.97975</td>\n",
       "      <td>0.97930</td>\n",
       "      <td>0.001017</td>\n",
       "    </tr>\n",
       "    <tr>\n",
       "      <td>3</td>\n",
       "      <td>5.912715</td>\n",
       "      <td>0.283135</td>\n",
       "      <td>0.106038</td>\n",
       "      <td>0.030729</td>\n",
       "      <td>8</td>\n",
       "      <td>250</td>\n",
       "      <td>{'max_depth': 8, 'n_estimators': 250}</td>\n",
       "      <td>0.934</td>\n",
       "      <td>0.938</td>\n",
       "      <td>0.916</td>\n",
       "      <td>...</td>\n",
       "      <td>0.9234</td>\n",
       "      <td>0.010613</td>\n",
       "      <td>8</td>\n",
       "      <td>0.97950</td>\n",
       "      <td>0.97950</td>\n",
       "      <td>0.98150</td>\n",
       "      <td>0.97900</td>\n",
       "      <td>0.97975</td>\n",
       "      <td>0.97985</td>\n",
       "      <td>0.000860</td>\n",
       "    </tr>\n",
       "    <tr>\n",
       "      <td>4</td>\n",
       "      <td>1.595959</td>\n",
       "      <td>0.179214</td>\n",
       "      <td>0.032080</td>\n",
       "      <td>0.011230</td>\n",
       "      <td>9</td>\n",
       "      <td>70</td>\n",
       "      <td>{'max_depth': 9, 'n_estimators': 70}</td>\n",
       "      <td>0.930</td>\n",
       "      <td>0.927</td>\n",
       "      <td>0.914</td>\n",
       "      <td>...</td>\n",
       "      <td>0.9224</td>\n",
       "      <td>0.006020</td>\n",
       "      <td>9</td>\n",
       "      <td>0.98875</td>\n",
       "      <td>0.98850</td>\n",
       "      <td>0.98825</td>\n",
       "      <td>0.99025</td>\n",
       "      <td>0.99025</td>\n",
       "      <td>0.98920</td>\n",
       "      <td>0.000872</td>\n",
       "    </tr>\n",
       "    <tr>\n",
       "      <td>5</td>\n",
       "      <td>2.327038</td>\n",
       "      <td>0.073123</td>\n",
       "      <td>0.048860</td>\n",
       "      <td>0.021724</td>\n",
       "      <td>9</td>\n",
       "      <td>100</td>\n",
       "      <td>{'max_depth': 9, 'n_estimators': 100}</td>\n",
       "      <td>0.933</td>\n",
       "      <td>0.942</td>\n",
       "      <td>0.918</td>\n",
       "      <td>...</td>\n",
       "      <td>0.9272</td>\n",
       "      <td>0.010796</td>\n",
       "      <td>6</td>\n",
       "      <td>0.98975</td>\n",
       "      <td>0.99125</td>\n",
       "      <td>0.99100</td>\n",
       "      <td>0.99225</td>\n",
       "      <td>0.99100</td>\n",
       "      <td>0.99105</td>\n",
       "      <td>0.000797</td>\n",
       "    </tr>\n",
       "    <tr>\n",
       "      <td>6</td>\n",
       "      <td>3.341123</td>\n",
       "      <td>0.263716</td>\n",
       "      <td>0.124854</td>\n",
       "      <td>0.057110</td>\n",
       "      <td>9</td>\n",
       "      <td>150</td>\n",
       "      <td>{'max_depth': 9, 'n_estimators': 150}</td>\n",
       "      <td>0.930</td>\n",
       "      <td>0.944</td>\n",
       "      <td>0.930</td>\n",
       "      <td>...</td>\n",
       "      <td>0.9294</td>\n",
       "      <td>0.008935</td>\n",
       "      <td>4</td>\n",
       "      <td>0.98950</td>\n",
       "      <td>0.99250</td>\n",
       "      <td>0.99050</td>\n",
       "      <td>0.99050</td>\n",
       "      <td>0.99000</td>\n",
       "      <td>0.99060</td>\n",
       "      <td>0.001020</td>\n",
       "    </tr>\n",
       "    <tr>\n",
       "      <td>7</td>\n",
       "      <td>5.399314</td>\n",
       "      <td>0.229177</td>\n",
       "      <td>0.115128</td>\n",
       "      <td>0.020718</td>\n",
       "      <td>9</td>\n",
       "      <td>250</td>\n",
       "      <td>{'max_depth': 9, 'n_estimators': 250}</td>\n",
       "      <td>0.929</td>\n",
       "      <td>0.943</td>\n",
       "      <td>0.925</td>\n",
       "      <td>...</td>\n",
       "      <td>0.9280</td>\n",
       "      <td>0.008149</td>\n",
       "      <td>5</td>\n",
       "      <td>0.99100</td>\n",
       "      <td>0.99150</td>\n",
       "      <td>0.99100</td>\n",
       "      <td>0.99150</td>\n",
       "      <td>0.99100</td>\n",
       "      <td>0.99120</td>\n",
       "      <td>0.000245</td>\n",
       "    </tr>\n",
       "    <tr>\n",
       "      <td>8</td>\n",
       "      <td>1.653467</td>\n",
       "      <td>0.191421</td>\n",
       "      <td>0.031908</td>\n",
       "      <td>0.011442</td>\n",
       "      <td>10</td>\n",
       "      <td>70</td>\n",
       "      <td>{'max_depth': 10, 'n_estimators': 70}</td>\n",
       "      <td>0.922</td>\n",
       "      <td>0.939</td>\n",
       "      <td>0.921</td>\n",
       "      <td>...</td>\n",
       "      <td>0.9256</td>\n",
       "      <td>0.006859</td>\n",
       "      <td>7</td>\n",
       "      <td>0.99475</td>\n",
       "      <td>0.99550</td>\n",
       "      <td>0.99575</td>\n",
       "      <td>0.99625</td>\n",
       "      <td>0.99550</td>\n",
       "      <td>0.99555</td>\n",
       "      <td>0.000485</td>\n",
       "    </tr>\n",
       "    <tr>\n",
       "      <td>9</td>\n",
       "      <td>2.385401</td>\n",
       "      <td>0.178396</td>\n",
       "      <td>0.045759</td>\n",
       "      <td>0.010560</td>\n",
       "      <td>10</td>\n",
       "      <td>100</td>\n",
       "      <td>{'max_depth': 10, 'n_estimators': 100}</td>\n",
       "      <td>0.936</td>\n",
       "      <td>0.944</td>\n",
       "      <td>0.924</td>\n",
       "      <td>...</td>\n",
       "      <td>0.9298</td>\n",
       "      <td>0.008727</td>\n",
       "      <td>3</td>\n",
       "      <td>0.99500</td>\n",
       "      <td>0.99575</td>\n",
       "      <td>0.99575</td>\n",
       "      <td>0.99650</td>\n",
       "      <td>0.99675</td>\n",
       "      <td>0.99595</td>\n",
       "      <td>0.000620</td>\n",
       "    </tr>\n",
       "    <tr>\n",
       "      <td>10</td>\n",
       "      <td>3.660859</td>\n",
       "      <td>0.195943</td>\n",
       "      <td>0.076393</td>\n",
       "      <td>0.025477</td>\n",
       "      <td>10</td>\n",
       "      <td>150</td>\n",
       "      <td>{'max_depth': 10, 'n_estimators': 150}</td>\n",
       "      <td>0.942</td>\n",
       "      <td>0.950</td>\n",
       "      <td>0.931</td>\n",
       "      <td>...</td>\n",
       "      <td>0.9348</td>\n",
       "      <td>0.009745</td>\n",
       "      <td>2</td>\n",
       "      <td>0.99575</td>\n",
       "      <td>0.99725</td>\n",
       "      <td>0.99675</td>\n",
       "      <td>0.99575</td>\n",
       "      <td>0.99650</td>\n",
       "      <td>0.99640</td>\n",
       "      <td>0.000583</td>\n",
       "    </tr>\n",
       "    <tr>\n",
       "      <td>11</td>\n",
       "      <td>6.920652</td>\n",
       "      <td>1.112184</td>\n",
       "      <td>0.147262</td>\n",
       "      <td>0.084185</td>\n",
       "      <td>10</td>\n",
       "      <td>250</td>\n",
       "      <td>{'max_depth': 10, 'n_estimators': 250}</td>\n",
       "      <td>0.939</td>\n",
       "      <td>0.946</td>\n",
       "      <td>0.933</td>\n",
       "      <td>...</td>\n",
       "      <td>0.9352</td>\n",
       "      <td>0.006554</td>\n",
       "      <td>1</td>\n",
       "      <td>0.99525</td>\n",
       "      <td>0.99725</td>\n",
       "      <td>0.99650</td>\n",
       "      <td>0.99675</td>\n",
       "      <td>0.99650</td>\n",
       "      <td>0.99645</td>\n",
       "      <td>0.000660</td>\n",
       "    </tr>\n",
       "  </tbody>\n",
       "</table>\n",
       "<p>12 rows × 22 columns</p>\n",
       "</div>"
      ],
      "text/plain": [
       "    mean_fit_time  std_fit_time  mean_score_time  std_score_time  \\\n",
       "0        1.551600      0.271128         0.045159        0.020912   \n",
       "1        2.157482      0.138588         0.060863        0.019533   \n",
       "2        3.695446      0.183625         0.064410        0.017864   \n",
       "3        5.912715      0.283135         0.106038        0.030729   \n",
       "4        1.595959      0.179214         0.032080        0.011230   \n",
       "5        2.327038      0.073123         0.048860        0.021724   \n",
       "6        3.341123      0.263716         0.124854        0.057110   \n",
       "7        5.399314      0.229177         0.115128        0.020718   \n",
       "8        1.653467      0.191421         0.031908        0.011442   \n",
       "9        2.385401      0.178396         0.045759        0.010560   \n",
       "10       3.660859      0.195943         0.076393        0.025477   \n",
       "11       6.920652      1.112184         0.147262        0.084185   \n",
       "\n",
       "   param_max_depth param_n_estimators                                  params  \\\n",
       "0                8                 70    {'max_depth': 8, 'n_estimators': 70}   \n",
       "1                8                100   {'max_depth': 8, 'n_estimators': 100}   \n",
       "2                8                150   {'max_depth': 8, 'n_estimators': 150}   \n",
       "3                8                250   {'max_depth': 8, 'n_estimators': 250}   \n",
       "4                9                 70    {'max_depth': 9, 'n_estimators': 70}   \n",
       "5                9                100   {'max_depth': 9, 'n_estimators': 100}   \n",
       "6                9                150   {'max_depth': 9, 'n_estimators': 150}   \n",
       "7                9                250   {'max_depth': 9, 'n_estimators': 250}   \n",
       "8               10                 70   {'max_depth': 10, 'n_estimators': 70}   \n",
       "9               10                100  {'max_depth': 10, 'n_estimators': 100}   \n",
       "10              10                150  {'max_depth': 10, 'n_estimators': 150}   \n",
       "11              10                250  {'max_depth': 10, 'n_estimators': 250}   \n",
       "\n",
       "    split0_test_score  split1_test_score  split2_test_score  ...  \\\n",
       "0               0.924              0.932              0.903  ...   \n",
       "1               0.928              0.934              0.915  ...   \n",
       "2               0.926              0.934              0.914  ...   \n",
       "3               0.934              0.938              0.916  ...   \n",
       "4               0.930              0.927              0.914  ...   \n",
       "5               0.933              0.942              0.918  ...   \n",
       "6               0.930              0.944              0.930  ...   \n",
       "7               0.929              0.943              0.925  ...   \n",
       "8               0.922              0.939              0.921  ...   \n",
       "9               0.936              0.944              0.924  ...   \n",
       "10              0.942              0.950              0.931  ...   \n",
       "11              0.939              0.946              0.933  ...   \n",
       "\n",
       "    mean_test_score  std_test_score  rank_test_score  split0_train_score  \\\n",
       "0            0.9136        0.012142               12             0.97575   \n",
       "1            0.9198        0.009968               11             0.97850   \n",
       "2            0.9218        0.007808               10             0.97900   \n",
       "3            0.9234        0.010613                8             0.97950   \n",
       "4            0.9224        0.006020                9             0.98875   \n",
       "5            0.9272        0.010796                6             0.98975   \n",
       "6            0.9294        0.008935                4             0.98950   \n",
       "7            0.9280        0.008149                5             0.99100   \n",
       "8            0.9256        0.006859                7             0.99475   \n",
       "9            0.9298        0.008727                3             0.99500   \n",
       "10           0.9348        0.009745                2             0.99575   \n",
       "11           0.9352        0.006554                1             0.99525   \n",
       "\n",
       "    split1_train_score  split2_train_score  split3_train_score  \\\n",
       "0              0.97800             0.97725             0.97925   \n",
       "1              0.97725             0.97925             0.97675   \n",
       "2              0.97750             0.98050             0.97975   \n",
       "3              0.97950             0.98150             0.97900   \n",
       "4              0.98850             0.98825             0.99025   \n",
       "5              0.99125             0.99100             0.99225   \n",
       "6              0.99250             0.99050             0.99050   \n",
       "7              0.99150             0.99100             0.99150   \n",
       "8              0.99550             0.99575             0.99625   \n",
       "9              0.99575             0.99575             0.99650   \n",
       "10             0.99725             0.99675             0.99575   \n",
       "11             0.99725             0.99650             0.99675   \n",
       "\n",
       "    split4_train_score  mean_train_score  std_train_score  \n",
       "0              0.97475           0.97700         0.001597  \n",
       "1              0.98050           0.97845         0.001355  \n",
       "2              0.97975           0.97930         0.001017  \n",
       "3              0.97975           0.97985         0.000860  \n",
       "4              0.99025           0.98920         0.000872  \n",
       "5              0.99100           0.99105         0.000797  \n",
       "6              0.99000           0.99060         0.001020  \n",
       "7              0.99100           0.99120         0.000245  \n",
       "8              0.99550           0.99555         0.000485  \n",
       "9              0.99675           0.99595         0.000620  \n",
       "10             0.99650           0.99640         0.000583  \n",
       "11             0.99650           0.99645         0.000660  \n",
       "\n",
       "[12 rows x 22 columns]"
      ]
     },
     "execution_count": 108,
     "metadata": {},
     "output_type": "execute_result"
    }
   ],
   "source": [
    "# cv results\n",
    "cv_results = pd.DataFrame(model_cv.cv_results_)\n",
    "cv_results\n",
    "#choose the combination n_estimators=150,max_depth=10 with rank_test_score=1."
   ]
  },
  {
   "cell_type": "code",
   "execution_count": 135,
   "metadata": {},
   "outputs": [
    {
     "name": "stdout",
     "output_type": "stream",
     "text": [
      "0     0.97700\n",
      "1     0.97845\n",
      "2     0.97930\n",
      "3     0.97985\n",
      "4     0.98920\n",
      "5     0.99105\n",
      "6     0.99060\n",
      "7     0.99120\n",
      "8     0.99555\n",
      "9     0.99595\n",
      "10    0.99640\n",
      "11    0.99645\n",
      "Name: mean_train_score, dtype: float64\n",
      "0     0.9136\n",
      "1     0.9198\n",
      "2     0.9218\n",
      "3     0.9234\n",
      "4     0.9224\n",
      "5     0.9272\n",
      "6     0.9294\n",
      "7     0.9280\n",
      "8     0.9256\n",
      "9     0.9298\n",
      "10    0.9348\n",
      "11    0.9352\n",
      "Name: mean_test_score, dtype: float64\n"
     ]
    }
   ],
   "source": [
    "print(cv_results[\"mean_train_score\"]) \n",
    "print(cv_results[\"mean_test_score\"]) "
   ]
  },
  {
   "cell_type": "code",
   "execution_count": 126,
   "metadata": {},
   "outputs": [
    {
     "data": {
      "text/plain": [
       "<matplotlib.legend.Legend at 0x1e8b5716e88>"
      ]
     },
     "execution_count": 126,
     "metadata": {},
     "output_type": "execute_result"
    },
    {
     "data": {
      "image/png": "[encoded data removed]",
      "text/plain": [
       "<Figure size 1152x576 with 1 Axes>"
      ]
     },
     "metadata": {
      "needs_background": "light"
     },
     "output_type": "display_data"
    }
   ],
   "source": [
    "cv_results['param_n_estimators'] = cv_results['param_n_estimators'].astype('int')\n",
    "# # plotting\n",
    "plt.figure(figsize=(16,8))\n",
    "\n",
    "# subplot 1/4\n",
    "plt.subplot(141)\n",
    "n_01 = cv_results[cv_results['param_n_estimators']==70]\n",
    "\n",
    "plt.plot(n_01[\"param_n_estimators\"], n_01[\"mean_test_score\"])\n",
    "plt.plot(n_01[\"param_n_estimators\"], n_01[\"mean_train_score\"])\n",
    "plt.xlabel('n_estimators')\n",
    "plt.ylabel('Accuracy')\n",
    "plt.title(\"n_estimators=70\")\n",
    "#plt.ylim([0.60, 1])\n",
    "plt.legend(['test accuracy', 'train accuracy'], loc='upper left')\n",
    "\n",
    "# subplot 2/4\n",
    "plt.subplot(142)\n",
    "n_01 = cv_results[cv_results['param_n_estimators']==100]\n",
    "\n",
    "plt.plot(n_01[\"param_n_estimators\"], n_01[\"mean_test_score\"])\n",
    "plt.plot(n_01[\"param_n_estimators\"], n_01[\"mean_train_score\"])\n",
    "plt.xlabel('n_estimators')\n",
    "plt.ylabel('Accuracy')\n",
    "plt.title(\"n_estimators=70\")\n",
    "#plt.ylim([0.60, 1])\n",
    "plt.legend(['test accuracy', 'train accuracy'], loc='upper left')\n",
    "\n",
    "# subplot 3/4\n",
    "plt.subplot(142)\n",
    "n_01 = cv_results[cv_results['param_n_estimators']==150]\n",
    "\n",
    "plt.plot(n_01[\"param_n_estimators\"], n_01[\"mean_test_score\"])\n",
    "plt.plot(n_01[\"param_n_estimators\"], n_01[\"mean_train_score\"])\n",
    "plt.xlabel('n_estimators')\n",
    "plt.ylabel('Accuracy')\n",
    "plt.title(\"n_estimators=70\")\n",
    "#plt.ylim([0.60, 1])\n",
    "plt.legend(['test accuracy', 'train accuracy'], loc='upper left')\n",
    "\n",
    "# subplot 4/4\n",
    "plt.subplot(142)\n",
    "n_01 = cv_results[cv_results['param_n_estimators']==200]\n",
    "\n",
    "plt.plot(n_01[\"param_n_estimators\"], n_01[\"mean_test_score\"])\n",
    "plt.plot(n_01[\"param_n_estimators\"], n_01[\"mean_train_score\"])\n",
    "plt.xlabel('n_estimators')\n",
    "plt.ylabel('Accuracy')\n",
    "plt.title(\"n_estimators=70\")\n",
    "#plt.ylim([0.60, 1])\n",
    "plt.legend(['test accuracy', 'train accuracy'], loc='upper left')"
   ]
  }
 ],
 "metadata": {
  "kernelspec": {
   "display_name": "Python 3",
   "language": "python",
   "name": "python3"
  },
  "language_info": {
   "codemirror_mode": {
    "name": "ipython",
    "version": 3
   },
   "file_extension": ".py",
   "mimetype": "text/x-python",
   "name": "python",
   "nbconvert_exporter": "python",
   "pygments_lexer": "ipython3",
   "version": "3.7.4"
  }
 },
 "nbformat": 4,
 "nbformat_minor": 2
}
